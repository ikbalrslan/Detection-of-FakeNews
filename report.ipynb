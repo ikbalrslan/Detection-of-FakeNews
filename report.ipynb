{
 "cells": [
  {
   "cell_type": "markdown",
   "metadata": {},
   "source": [
    "# Part I: Theory Questions"
   ]
  },
  {
   "cell_type": "markdown",
   "metadata": {},
   "source": [
    "## MLE"
   ]
  },
  {
   "cell_type": "code",
   "execution_count": null,
   "metadata": {},
   "outputs": [],
   "source": []
  },
  {
   "cell_type": "markdown",
   "metadata": {},
   "source": [
    "## Naive Bayes"
   ]
  },
  {
   "cell_type": "code",
   "execution_count": null,
   "metadata": {},
   "outputs": [],
   "source": []
  },
  {
   "cell_type": "markdown",
   "metadata": {},
   "source": [
    "# PART II: Detection of Fake News"
   ]
  },
  {
   "cell_type": "markdown",
   "metadata": {},
   "source": [
    "## Introduction"
   ]
  },
  {
   "cell_type": "markdown",
   "metadata": {},
   "source": [
    "In determining whether the news headlines are real or fake news, I will try to explain my steps in this report. In the first part, I will talk about the process of reading the train and test files and talk about the stem and tokenizing processes that I have followed to increase the accuracy calculation for the model and make the program more accurate. The second part is about understanding data topic. I will try to determine 3 examples of specific keywords that may be useful for classifiying, together with statistics on how often they appear in real and fake headlines. In the third part, I will talk about my steps and how I wrote Naive Bayes classifier implementation on Unigram and Bigram options. Unigram is the occurrences of words in a document and Bigram is the occurrences of two adjacent words in a document. Additionally, I will some hint about The bag-of-words model in here. (This is a way of representing text data when modeling text with machine learning algorithms.) In the next step, by analyzing the effects of words on predicting, I will explain the reasons by observing the change in my results by applying the stopwords process. Finally, I will give the accuracy of the calculation results and explain separately how the processes leads to a result. "
   ]
  },
  {
   "cell_type": "markdown",
   "metadata": {},
   "source": [
    "## Used Libraries"
   ]
  },
  {
   "cell_type": "code",
   "execution_count": 2,
   "metadata": {},
   "outputs": [],
   "source": [
    "from readFile import readFile\n",
    "from bagOfWords import bagOfWords,tenWordsWithCondProb\n",
    "import time\n",
    "import pandas as pd\n",
    "from nltk.stem import PorterStemmer\n",
    "from nltk.tokenize import sent_tokenize, word_tokenize\n",
    "from sklearn.feature_extraction.text import CountVectorizer\n",
    "import numpy as np\n",
    "from readFile import readCSV\n",
    "from naiveBayes import naiveBayes,calculationofAccuracy,understandData,findTenNonStopWords\n",
    "import numpy as np\n",
    "from math import log10\n",
    "from main import programWorkStation\n",
    "import matplotlib.pyplot as plt"
   ]
  },
  {
   "cell_type": "markdown",
   "metadata": {},
   "source": [
    "These libraries used for creating numpy arrays, parsing .csv files into the dataframes, parsing train .txt files, stem operations and discarding to the stopwords. Additionally, vectorizer operations was done for NLP and Machine Learning problems, such as bag of words, transform and indexing words into dictinaries. But mostly, my approaches was mostly effected the solution. i.e. for example CountVectorizer can lowercase letters, disregard punctuation and stopwords, but it can't stem. Because of that, I made stem operations with my approaches.  "
   ]
  },
  {
   "cell_type": "markdown",
   "metadata": {},
   "source": [
    "## Process Steps"
   ]
  },
  {
   "cell_type": "markdown",
   "metadata": {},
   "source": [
    "**--**  *Read given real and fake dataset and split them according to needs of operations. (options such as stem, stopword, tokenizing, etc.)*<br>\n",
    "**--**  *After that, read given test .csv file and do the same operations on it for unigram and bigram words coupling*<br>\n",
    "**--**  *Prepare dataset for fake/real classification.*<br>\n",
    "**--**  *Filter data for different options, make stopword, stem and tokenizing on it*<br>\n",
    "**--**  *Understand the data with your own metodology.*<br>\n",
    "**--**  *Imlement Bag of Words (BoW) model.*<br>\n",
    "**--**  *Imlement Naive Bayes Algorithm for Unigram and Bigram.*<br>\n",
    "**--**  *Compute the log probabilities and make laplace smoothing on it.*<br>\n",
    "**--**  *Analyze the effect of the words on prediction. Give some approaches.*<br>\n",
    "**--**  *Calculate the accuracy of the classification which according to the given formula.*<br>"
   ]
  },
  {
   "cell_type": "markdown",
   "metadata": {},
   "source": [
    "## Functions and Writing Purposes"
   ]
  },
  {
   "cell_type": "markdown",
   "metadata": {},
   "source": [
    "- readFile(trainReal, trainFake, ngram, stemed): reads trainReal and trainFake for different ngram and stemed parameters\n",
    "- readCSV(testFile, ngram, stemed): reads test.csv for different ngram and stemed parameters\n",
    "- bagOfWords(linesOfReal,linesOfFake, ngram, stopEnglish, stemed): takes option parameters, calls naive bayes and understandData functions for processes\n",
    "- naiveBayes(countOfRealsDict, BoWOfReal, countOfFakesDict, BoWOfFake, testindexDictOfWord, test_BoW): takes some count parameters and BoW of datas, after that performs naive bayes algorithm \n",
    "- calculationofAccuracy(correctnessCount, testSize): for accuracy calculation\n",
    "- understandData(countOfRealsDict,countOfFakesDict, uniqlistOfRealWords, uniqlistOfFakeWords): analyzes the words with my statistical approach.\n",
    "- programWorkStation(): calls all methods. "
   ]
  },
  {
   "cell_type": "markdown",
   "metadata": {},
   "source": [
    "## Dataset Operations"
   ]
  },
  {
   "cell_type": "markdown",
   "metadata": {},
   "source": [
    "### Train Dataset of Model"
   ]
  },
  {
   "cell_type": "markdown",
   "metadata": {},
   "source": [
    "While reading the train dataset .txt files, I made the first, reading of the file according to the selected situation so that the program can respond to the stem and stopwords options. In the current situation, operations were only performed for unigram. But this time, with using \"nltk.tokenize\" and \"nltk.stem\" libraries, stem making and token addition functions were performed for the bigram. For stemming operations, PorterStemmer() function of \"nltk.stem\" was performed very well. Adding token to the lines of train data has raised the percentage of calculation accuracy of the processes."
   ]
  },
  {
   "cell_type": "markdown",
   "metadata": {},
   "source": [
    "### Test Data"
   ]
  },
  {
   "cell_type": "markdown",
   "metadata": {},
   "source": [
    "Since the test data is a .csv folder, I used the pandas library to read it in dataframe as in the previous homework. In addition, I have also opted for the ngram and stem operations. Because the test data would be compared with the model, the stem and token addition should be done for testing. First of all I have included the words in the bigram calculations by adding token to the beginning and end of each line for the Bigram option. This has raised the percentage of calculation accuracy of the process. However, token was not added for Unigram operation. Because the added token would be perceived as an extra unique word."
   ]
  },
  {
   "cell_type": "markdown",
   "metadata": {},
   "source": [
    "# Performing Tasks"
   ]
  },
  {
   "cell_type": "code",
   "execution_count": 3,
   "metadata": {},
   "outputs": [],
   "source": [
    "stemlinesOfReal_uni, stemlinesOfFake_uni = readFile(\"clean_real-Train.txt\", \"clean_fake-Train.txt\", 1, stemed=True)\n",
    "stemlinesOfReal_bi, stemlinesOfFake_bi = readFile(\"clean_real-Train.txt\", \"clean_fake-Train.txt\", 2, stemed=True)\n",
    "linesOfReal_uni, linesOfFake_uni = readFile(\"clean_real-Train.txt\", \"clean_fake-Train.txt\", 1, stemed=False)\n",
    "linesOfReal_bi, linesOfFake_bi = readFile(\"clean_real-Train.txt\", \"clean_fake-Train.txt\", 2, stemed=False)"
   ]
  },
  {
   "cell_type": "markdown",
   "metadata": {},
   "source": [
    "## 1- Understanding Data "
   ]
  },
  {
   "cell_type": "markdown",
   "metadata": {},
   "source": [
    "I tried to predicting in this part, whether a headline is real or fake news from words that appear in the headline. I looked for a frequencies of words that appears in the headlines and I gave 3 examples of specific keywords that may be useful, together with statistics on how often they appear in real and fake headlines. My approach of determining word is avoiding common words in different classifiers (real or fake) so that  choosed words was special to its group with top 3 frequencies. "
   ]
  },
  {
   "cell_type": "code",
   "execution_count": 4,
   "metadata": {},
   "outputs": [
    {
     "name": "stdout",
     "output_type": "stream",
     "text": [
      "correctness count:  423\n",
      "Accuracy =  86.50306748466258\n",
      "\n",
      "Understanding Data and choosen 3 word: \n",
      "Choosen Real Words:{ korea : 62 }{ turnbull : 48 }{ travel : 47 }\n",
      "Choosen Fake Words:{ breaking : 24 }{ soros : 18 }{ woman : 13 }"
     ]
    }
   ],
   "source": [
    "returnValuesOfUnigram = bagOfWords(linesOfReal_uni, linesOfFake_uni, 1, stopEnglish=None, stemed=False)\n",
    "countOfRealsDict = returnValuesOfUnigram[0]\n",
    "countOfFakesDict = returnValuesOfUnigram[1]\n",
    "uniqlistOfRealWords = returnValuesOfUnigram[2]\n",
    "uniqlistOfFakeWords = returnValuesOfUnigram[3]\n",
    "print(\"\\nUnderstanding Data and choosen 3 word: \")\n",
    "give_three_words = understandData(countOfRealsDict, countOfFakesDict, uniqlistOfRealWords, uniqlistOfFakeWords)"
   ]
  },
  {
   "cell_type": "markdown",
   "metadata": {},
   "source": [
    "You can see the pyplot of their counts & frequencies of words:"
   ]
  },
  {
   "cell_type": "code",
   "execution_count": 5,
   "metadata": {},
   "outputs": [
    {
     "data": {
      "image/png": "[encoded data removed]",
      "text/plain": [
       "<Figure size 432x288 with 1 Axes>"
      ]
     },
     "metadata": {
      "needs_background": "light"
     },
     "output_type": "display_data"
    },
    {
     "data": {
      "image/png": "[encoded data removed]",
      "text/plain": [
       "<Figure size 432x288 with 1 Axes>"
      ]
     },
     "metadata": {
      "needs_background": "light"
     },
     "output_type": "display_data"
    }
   ],
   "source": [
    "fig, ax = plt.subplots()\n",
    "\n",
    "# Example data\n",
    "real_words = (give_three_words[0][0], give_three_words[0][1], give_three_words[0][2])\n",
    "y_pos = np.arange(len(real_words))\n",
    "real_counts = (give_three_words[1][0], give_three_words[1][1], give_three_words[1][2])\n",
    "error = np.random.rand(len(real_words))\n",
    "\n",
    "ax.barh(y_pos, real_counts, xerr=error, align='center',\n",
    "        color='blue', ecolor='black')\n",
    "ax.set_yticks(y_pos)\n",
    "ax.set_yticklabels(real_words)\n",
    "ax.invert_yaxis()  # labels read top-to-bottom\n",
    "ax.set_xlabel('word frequency')\n",
    "ax.set_title('Real Words')\n",
    "\n",
    "plt.show()\n",
    "\n",
    "fig1, ax1 = plt.subplots()\n",
    "#print(give_three_words)\n",
    "# Example data\n",
    "fake_words = (give_three_words[2][0], give_three_words[2][1], give_three_words[2][2])\n",
    "y_pos1 = np.arange(len(fake_words))\n",
    "fake_counts = (give_three_words[3][0], give_three_words[3][1], give_three_words[3][2])\n",
    "error1 = np.random.rand(len(fake_words))\n",
    "\n",
    "ax1.barh(y_pos1, fake_counts, xerr=error1, align='center',\n",
    "        color='red', ecolor='black')\n",
    "ax1.set_yticks(y_pos1)\n",
    "ax1.set_yticklabels(fake_words)\n",
    "ax1.invert_yaxis()  # labels read top-to-bottom\n",
    "ax1.set_xlabel('word frequency')\n",
    "ax1.set_title('Fake Words')\n",
    "\n",
    "plt.show()"
   ]
  },
  {
   "cell_type": "markdown",
   "metadata": {},
   "source": [
    "## 2- Implementing Naive Bayes"
   ]
  },
  {
   "cell_type": "markdown",
   "metadata": {},
   "source": [
    "In this part, Naive bayes used for classification problem. Naive Bayes is a classification algorithm for binary (two-class) and multi-class classification problems. The technique is easiest to understand when described using binary or categorical input values. The problem is determining the news headlines of given test data is real or fake.  While implementing Naive Bayes, there were some desirable requirements such as implementing BoW representation, using logarithm while finding conditional probabilities and naive bayes, laplace smoothing, etc. So, I would like to mention how I met these requirements.\n",
    "\n",
    "I implemented bag of words representation with using \"CountVectorizer\" of \"sklearn\" library. Features in Bag of Words are fit, vocabulary and transform functions was used and performed very well. As known, these kind of functions are fundamentals of bag of words in machine learning. Thanks to index dictionaries of numpy arrays, I could easily find word counts and other stuff. BoW model was created for Unigram and Bigram. While creating BoW model, I used vectorizer(ngram=x,x) for splitting words into one or two pairs that was very useful for this model. After implemented Bag of Words (BoW) model, I computed the log probabilities to prevent numerical underflow when calculating multiplicative probabilities of words. \n",
    "\n",
    "Probabilities used for representation of naive Bayes Algorithm. A list of probabilities are stored in a dictionary structure for a learned naive Bayes model. This includes class probabilities and conditional probabilities. Class probabilities is the probabilities of each class in the training dataset. Conditional Probabilities is the conditional probabilities of each input value given each class value. Conditional probability formula given below:"
   ]
  },
  {
   "cell_type": "markdown",
   "metadata": {},
   "source": [
    "$$P(w|c) = \\frac{count(w,c)+1}{count(c)+|V|+1}$$"
   ]
  },
  {
   "cell_type": "markdown",
   "metadata": {},
   "source": [
    "We may encounter words during classification that you havent during training. In particular, any unknown word will have probability given below: "
   ]
  },
  {
   "cell_type": "markdown",
   "metadata": {},
   "source": [
    "$$P(w|c) = \\frac{1}{count(c)+|V|+1}$$"
   ]
  },
  {
   "cell_type": "markdown",
   "metadata": {},
   "source": [
    "Lastly, I applied bayes formula with these conditional probabilites of words and prior probabilities of classes with using log10 of conditional probabilities. "
   ]
  },
  {
   "cell_type": "markdown",
   "metadata": {},
   "source": [
    "## 3a- Analyzing Effect of the Words on Prediction"
   ]
  },
  {
   "cell_type": "markdown",
   "metadata": {},
   "source": [
    "Firstly, I must to say that, TF-IDF calculations is determining is importance of the words according to their weights. But in our case, most of the words exist once in each headline. So predicting weights to the words is meaningless in this case. Because, values that comes from TF-IDF operations are almost equally each other. I understood this topic but, this operation is unnecessary to our case. \n",
    "\n",
    "My approach is sorting words according to their conditional probabilies and taking ten words for different scenarios"
   ]
  },
  {
   "cell_type": "markdown",
   "metadata": {},
   "source": [
    "- List the 10 words whose presence most strongly predicts that the news is real \n",
    "- List the 10 words whose absence most strongly predicts that the news is fake."
   ]
  },
  {
   "cell_type": "markdown",
   "metadata": {},
   "source": [
    "These two sentence above wants the same thing, I think. Because, if presence of these words  most strongly predicts that the news is real, then absence of these words  most strongly predicts that the news is fake. "
   ]
  },
  {
   "cell_type": "markdown",
   "metadata": {},
   "source": [
    "- List the 10 words whose absence most strongly predicts that the news is real.\n",
    "- List the 10 words whose presence most strongly predicts that the news is fake."
   ]
  },
  {
   "cell_type": "markdown",
   "metadata": {},
   "source": [
    "These two sentence above wants the same thing, too. Because, if absence of these words  most strongly predicts that the news is real, then presence of these words  most strongly predicts that the news is fake. I list to wanted tasks with their logarithmic conditional probabilities below. But, similar tasks that I mentioned before, listed one time:"
   ]
  },
  {
   "cell_type": "code",
   "execution_count": 6,
   "metadata": {},
   "outputs": [
    {
     "name": "stdout",
     "output_type": "stream",
     "text": [
      "correctness count:  414\n",
      "Accuracy =  84.66257668711657\n",
      "10 words with condtional probabilities whose presence most strongly predicts that the news is real:\n",
      "1 -  {'trump': -1.0257470813615457}\n",
      "2 -  {'donald': -1.3462151862957015}\n",
      "3 -  {'trumps': -1.930301806611763}\n",
      "4 -  {'says': -2.001573882605543}\n",
      "5 -  {'clinton': -2.3462151862957015}\n",
      "6 -  {'election': -2.35237549500052}\n",
      "7 -  {'north': -2.3586244442775213}\n",
      "8 -  {'ban': -2.377929599472908}\n",
      "9 -  {'korea': -2.3981329855611953}\n",
      "10 -  {'president': -2.405081845516523}\n",
      "\n",
      "10 words with condtional probabilities whose presence most strongly predicts that the news is fake:\n",
      "1 -  {'trump': -1.0998338444298499}\n",
      "2 -  {'donald': -1.8610403779988292}\n",
      "3 -  {'hillary': -2.0494927283993483}\n",
      "4 -  {'clinton': -2.096391598018833}\n",
      "5 -  {'just': -2.320787536649069}\n",
      "6 -  {'election': -2.3609047598570516}\n",
      "7 -  {'new': -2.397421593682814}\n",
      "8 -  {'obama': -2.437293105720506}\n",
      "9 -  {'president': -2.445726273257369}\n",
      "10 -  {'america': -2.490538617673731}\n"
     ]
    }
   ],
   "source": [
    "returnValuesOfUnigram4 = bagOfWords(linesOfReal_uni, linesOfFake_uni, 1, stopEnglish=\"english\", stemed=False)\n",
    "countOfRealsDict = returnValuesOfUnigram4[0]\n",
    "countOfFakesDict = returnValuesOfUnigram4[1]\n",
    "tenWordsWithCondProb(countOfRealsDict, countOfFakesDict)"
   ]
  },
  {
   "cell_type": "markdown",
   "metadata": {},
   "source": [
    "## 3b- Stopwords "
   ]
  },
  {
   "cell_type": "markdown",
   "metadata": {},
   "source": [
    "list of 10 non-stopwords that most strongly predict that the news is real, and the list of 10 non-stopwords that most strongly predict that the news is fake is given below. My approach of determining word is avoiding common words in different classifiers (real or fake) so that  choosed words was special to its group with top 10 conditional probabilities. "
   ]
  },
  {
   "cell_type": "code",
   "execution_count": 7,
   "metadata": {},
   "outputs": [
    {
     "name": "stdout",
     "output_type": "stream",
     "text": [
      "correctness count:  414\n",
      "Accuracy =  84.66257668711657\n",
      "10 non-stopwords that most strongly predict that the news is real:\n",
      "1 -  korea : 62\n",
      "2 -  turnbull : 48\n",
      "3 -  travel : 47\n",
      "4 -  australia : 31\n",
      "5 -  climate : 24\n",
      "6 -  paris : 20\n",
      "7 -  refugee : 19\n",
      "8 -  flynn : 16\n",
      "9 -  debate : 15\n",
      "10 -  asia : 15\n",
      "\n",
      "10 non-stopwords that most strongly predict that the news is fake:\n",
      "1 -  breaking : 24\n",
      "2 -  soros : 18\n",
      "3 -  woman : 13\n",
      "4 -  duke : 12\n",
      "5 -  steal : 11\n",
      "6 -  dr : 11\n",
      "7 -  reason : 10\n",
      "8 -  info : 9\n",
      "9 -  endingfed : 9\n",
      "10 -  interview : 9\n"
     ]
    }
   ],
   "source": [
    "returnsOfUnigram = bagOfWords(linesOfReal_uni, linesOfFake_uni, 1, stopEnglish=\"english\", stemed=False)\n",
    "countOfRealsDict = returnsOfUnigram[0]\n",
    "countOfFakesDict = returnsOfUnigram[1]\n",
    "uniqlistOfRealWords = returnsOfUnigram[2]\n",
    "uniqlistOfFakeWords = returnsOfUnigram[3]\n",
    "give_three_words = findTenNonStopWords(countOfRealsDict, countOfFakesDict, uniqlistOfRealWords, uniqlistOfFakeWords)"
   ]
  },
  {
   "cell_type": "markdown",
   "metadata": {},
   "source": [
    "## 3c- Analyzing Effect of the Stopwords"
   ]
  },
  {
   "cell_type": "markdown",
   "metadata": {},
   "source": [
    "The use of Stopword may have the potential to increase or decrease the algorithm accuracy. In our case, I used the stopword process only in the unigram calculation. In addition, as you can see below, I have obtained the highest accuracy score without removing the stopwords and without making stem. The reason for this situation is that stopwords contribute to the news being real or fake. Because some of the stopwords are mostly used in fake headlines or real headlines, it is important to make classification. Finally, I think the stem process is also preventing the classification from being unique. That is to say, if the words in the test data are taken into calculation together with their annexes, I think the probability of matching with the classification in our model is higher."
   ]
  },
  {
   "cell_type": "markdown",
   "metadata": {},
   "source": [
    "## Calculation of Accuracy"
   ]
  },
  {
   "cell_type": "markdown",
   "metadata": {},
   "source": [
    "Got the best score when I did not stopword and stem. Accuracy scores of Unigram calculations for different situations is given below: "
   ]
  },
  {
   "cell_type": "code",
   "execution_count": 8,
   "metadata": {},
   "outputs": [
    {
     "name": "stdout",
     "output_type": "stream",
     "text": [
      "Please wait till the end of program. It may take some time....\n",
      "\n",
      "Unigram (with stopWord,with stem):\n",
      "correctness count:  402\n",
      "Accuracy =  82.20858895705521\n",
      "\n",
      "Unigram (with stopWord,without stem):\n",
      "correctness count:  414\n",
      "Accuracy =  84.66257668711657\n",
      "\n",
      "Unigram (without stopWord, with stem):\n",
      "correctness count:  412\n",
      "Accuracy =  84.25357873210633\n",
      "\n",
      "Unigram (without stopWord, without stem):\n",
      "correctness count:  423\n",
      "Accuracy =  86.50306748466258\n"
     ]
    }
   ],
   "source": [
    "    print(\"Please wait till the end of program. It may take some time....\\n\")\n",
    "    print(\"Unigram (with stopWord,with stem):\")\n",
    "    rtnValuesUnigram1 = bagOfWords(stemlinesOfReal_uni, stemlinesOfFake_uni, 1, stopEnglish=\"english\", stemed=True)\n",
    "    print(\"\\nUnigram (with stopWord,without stem):\")\n",
    "    rtnValuesUnigram2 = bagOfWords(linesOfReal_uni, linesOfFake_uni, 1, stopEnglish=\"english\", stemed=False)\n",
    "    print(\"\\nUnigram (without stopWord, with stem):\")\n",
    "    rtnValuesUnigram3 = bagOfWords(stemlinesOfReal_uni, stemlinesOfFake_uni, 1, stopEnglish=None, stemed=True)\n",
    "    print(\"\\nUnigram (without stopWord, without stem):\")\n",
    "    rtnValuesUnigram4 = bagOfWords(linesOfReal_uni, linesOfFake_uni, 1, stopEnglish=None, stemed=False)\n",
    " "
   ]
  },
  {
   "cell_type": "markdown",
   "metadata": {},
   "source": [
    "Got the best score when I did not stopword and did stem. Cutting of the stopwords is meaningless in Bigram but I done for just to see the results. Accuracy scores of Bigram calculations for different situations is given below: "
   ]
  },
  {
   "cell_type": "code",
   "execution_count": 9,
   "metadata": {},
   "outputs": [
    {
     "name": "stdout",
     "output_type": "stream",
     "text": [
      "\n",
      "Start & End tokens of lines is added to the bigram calculations...\n",
      "\n",
      "Bigram (without stopwords with stem):\n",
      "correctness count:  422\n",
      "Accuracy =  86.29856850715747\n",
      "\n",
      "Bigram (without stopwords without stem):\n",
      "correctness count:  421\n",
      "Accuracy =  86.09406952965234\n",
      "\n",
      "Bigram (with stopwords with stem):\n",
      "correctness count:  400\n",
      "Accuracy =  81.79959100204499\n",
      "\n",
      "Bigram (with stopwords without stem):\n",
      "correctness count:  391\n",
      "Accuracy =  79.95910020449898\n"
     ]
    }
   ],
   "source": [
    "print(\"\\nStart & End tokens of lines is added to the bigram calculations...\")\n",
    "print(\"\\nBigram (without stopwords with stem):\")\n",
    "returnValuesOfBigram1 = bagOfWords(stemlinesOfReal_bi, stemlinesOfFake_bi, 2, stopEnglish=None, stemed=True)\n",
    "print(\"\\nBigram (without stopwords without stem):\")\n",
    "returnValuesOfBigram2 = bagOfWords(linesOfReal_bi, linesOfFake_bi, 2, stopEnglish=None, stemed=False)\n",
    "print(\"\\nBigram (with stopwords with stem):\")\n",
    "returnValuesOfBigram1 = bagOfWords(stemlinesOfReal_bi, stemlinesOfFake_bi, 2, stopEnglish=\"english\", stemed=True)\n",
    "print(\"\\nBigram (with stopwords without stem):\")\n",
    "returnValuesOfBigram2 = bagOfWords(linesOfReal_bi, linesOfFake_bi, 2, stopEnglish=\"english\", stemed=False)"
   ]
  },
  {
   "cell_type": "markdown",
   "metadata": {},
   "source": [
    "# References"
   ]
  },
  {
   "cell_type": "markdown",
   "metadata": {},
   "source": [
    "- https://www.kaggle.com/adamschroeder/countvectorizer-tfidfvectorizer-predict-comments\n",
    "- https://scikit-learn.org/stable/modules/generated/sklearn.feature_extraction.text.CountVectorizer.html\n",
    "- https://stats.stackexchange.com/questions/108797/in-naive-bayes-why-bother-with-laplace-smoothing-when-we-have-unknown-words-in\n",
    "- https://machinelearningmastery.com/naive-bayes-for-machine-learning/"
   ]
  }
 ],
 "metadata": {
  "kernelspec": {
   "display_name": "Python 3",
   "language": "python",
   "name": "python3"
  },
  "language_info": {
   "codemirror_mode": {
    "name": "ipython",
    "version": 3
   },
   "file_extension": ".py",
   "mimetype": "text/x-python",
   "name": "python",
   "nbconvert_exporter": "python",
   "pygments_lexer": "ipython3",
   "version": "3.7.0"
  }
 },
 "nbformat": 4,
 "nbformat_minor": 2
}
